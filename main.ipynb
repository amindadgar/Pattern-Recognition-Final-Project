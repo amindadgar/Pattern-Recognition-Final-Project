{
 "cells": [
  {
   "cell_type": "code",
   "execution_count": 1,
   "metadata": {},
   "outputs": [],
   "source": [
    "import numpy as np\n",
    "import cvxopt\n",
    "import matplotlib.pyplot as plt"
   ]
  },
  {
   "cell_type": "markdown",
   "metadata": {},
   "source": [
    "# Soft margin SVM\n",
    "this part we are going to implement soft margin svm. We're using cvxopt library to solve quadratic equations in support vector machines."
   ]
  },
  {
   "cell_type": "markdown",
   "metadata": {},
   "source": [
    "## formulas and equations\n",
    "First we will speak of the CVXOPT library. in this library to solve a quadratic equation, equations must be in the form as equation \\ref{eq:quadratic-cvxopt-form}\n",
    "\\begin{equation} \n",
    "\\begin{aligned}\n",
    "&min \\: \\frac{1}{2} x^T P x + q^Tx \\\\\n",
    "&subject \\; to \\; Gx \\leq h \\\\\n",
    "& Ax=b\n",
    "\\end{aligned}\n",
    "\\label{eq:quadratic-cvxopt-form}\n",
    "\\end{equation}"
   ]
  },
  {
   "cell_type": "markdown",
   "metadata": {},
   "source": [
    "And the dual problem equations in support vector machines are as\n",
    "\\begin{equation} \\label{eq:dual-problem-expression}\n",
    "max \\sum_{i=1}^{m} \\alpha_i - \\frac{1}{2} \\sum_{i,j=1}^{m} y_i y_j \\alpha_i \\alpha_j x_{i}^{T} x_j\n",
    "\\end{equation}\n",
    "And if we write $H$ as $H_{i,j} = y_i y_j x_{i}^{T} x_j$\n",
    "the optimazation equation will be as \n",
    "\\begin{equation}\n",
    "\\begin{aligned}\n",
    "&max \\: \\sum_{i=1}^{m} \\alpha_i - \\frac{1}{2} \\alpha^T H \\alpha \\\\\n",
    "& subject \\; to \\; 0 \\leq \\alpha_i \\leq C \\\\\n",
    "& \\sum_{i}^{m} \\alpha_i y_i = 0\n",
    "\\end{aligned}\n",
    "\\end{equation}\n",
    "Note that $H$ will be our gram matrix. and if we want to convert our problem to the notation of CVXOPT library we can write\n",
    "\n",
    " $P$ stands for H with the shape $m \\times m$, $q$ stands for -1 vector with -1 values and with shape of $m \\times 1$, $G$ stands for a digonal matrix with -1 on the diagonal and the shape of $m \\times m$, $h$ stands for a zero vector with the shape of $m \\times 1$, $A$ stands for the label vector y with the shape of $m \\times 1$ and $b$ is a scalar."
   ]
  },
  {
   "cell_type": "markdown",
   "metadata": {},
   "source": [
    "To convert the maximum problem into minimum we can multilpy all equations with a $-1$ \n",
    "\\begin{equation}\n",
    "\\begin{aligned}\n",
    "& min \\: \\frac{1}{2} \\alpha^T H \\alpha - 1^T \\alpha_i \\\\\n",
    "& subject \\; to \\; \\alpha_i \\leq C \\\\\n",
    "&  -\\alpha_i \\leq 0 \\\\\n",
    "& \\sum_{i}^{m} \\alpha_i y_i = 0\n",
    "\\end{aligned}\n",
    "\\end{equation}\n",
    "also we can rewrite the last equation as below, meaning all lables ($y$) are in one vector\n",
    "\\begin{equation}\n",
    "y^T \\alpha = 0\n",
    "\\end{equation}"
   ]
  },
  {
   "cell_type": "markdown",
   "metadata": {},
   "source": [
    "## implementation\n",
    "Now we're going to implement soft margin svm with an example.  The data are as follows\n",
    "\\begin{equation}\n",
    "X =\n",
    "\\begin{pmatrix}\n",
    "3 & 1 & 2 & 6 & 7 & 5 & 2 \\\\\n",
    "4 & 4 & 3 & -1 & -1 & -3 & 4\n",
    "\\end{pmatrix}\n",
    "\\end{equation}\n",
    "And the labels are \n",
    "\\begin{equation}\n",
    "Y = \n",
    "\\begin{pmatrix}\n",
    "-1 & -1 & -1 & 1 & 1 & 1 & 1 \\\\\n",
    "\\end{pmatrix}\n",
    "\\end{equation}\n",
    "because the dimension of samples are 2 and we have two constraints $G$ and $h$, we can write these constraints as \n",
    "\\begin{equation}\n",
    "G = \n",
    "\\begin{pmatrix}\n",
    "-1 & 0 \\\\\n",
    "0 & -1 \\\\\n",
    "1 & 0 \\\\\n",
    "0 & 1\n",
    "\\end{pmatrix}\n",
    "\\end{equation}\n",
    "\n",
    "\\begin{equation}\n",
    "h = \n",
    "\\begin{pmatrix}\n",
    "0 \\\\\n",
    "0 \\\\\n",
    "C \\\\\n",
    "C\n",
    "\\end{pmatrix}\n",
    "\\end{equation}"
   ]
  },
  {
   "cell_type": "code",
   "execution_count": 2,
   "metadata": {},
   "outputs": [],
   "source": [
    "def svm_soft_margin(X, y, C):\n",
    "    \"\"\"\n",
    "    implementation of soft margin svm\n",
    "    \n",
    "    INPUTS:\n",
    "    --------\n",
    "    X: the numpy matrix of input vectors, shape is m*n meaning m is the dimension and n is data sample size\n",
    "    y: numpy vector of labels, shape is n*1\n",
    "    \n",
    "    \"\"\"\n",
    "    \n",
    "    m,n = X.shape\n",
    "    \n",
    "    ## multiplying the labels with inputs\n",
    "    X_dash = y * X\n",
    "\n",
    "    ## inner product \n",
    "    ## with this the labels will be multiplied twice as in the dual problem equation\n",
    "    H = np.dot(X_dash, X_dash.T)\n",
    "    \n",
    "    ## convert data into cvxopt format\n",
    "    P = cvxopt.matrix(H)\n",
    "    q = cvxopt.matrix(-np.ones(m))\n",
    "    G = cvxopt.matrix(np.vstack((np.eye(m)*-1,np.eye(m))))\n",
    "    h = cvxopt.matrix(np.hstack((np.zeros(m), np.ones(m) * C)))\n",
    "    A = cvxopt.matrix(y.reshape(1, -1))\n",
    "    b = cvxopt.matrix(np.zeros(1))\n",
    "\n",
    "    ## solve the qaudratic equations\n",
    "    answer = cvxopt.solvers.qp(P, q, G, h, A, b)\n",
    "\n",
    "    ## the lagrangian coefficients (named as alpha)\n",
    "    alphas = np.array(answer['x'])\n",
    "\n",
    "    ## computing parameters of the line equation\n",
    "    w = ((y * alphas).T @ X).reshape(-1,1)\n",
    "    S = (alphas > 1e-4).flatten()\n",
    "    b = y[S] - np.dot(X[S], w)\n",
    "\n",
    "    #Display results\n",
    "    print('Alphas = ',alphas[alphas > 1e-4])\n",
    "    print('w = ', w.flatten())\n",
    "    print('b = ', b[0])\n"
   ]
  },
  {
   "cell_type": "code",
   "execution_count": 3,
   "metadata": {},
   "outputs": [
    {
     "name": "stdout",
     "output_type": "stream",
     "text": [
      "     pcost       dcost       gap    pres   dres\n",
      " 0: -1.5556e+01 -2.5999e+02  3e+02  1e-01  2e-14\n",
      " 1: -1.8050e+01 -3.9497e+01  2e+01  4e-03  1e-14\n",
      " 2: -2.1437e+01 -2.3412e+01  2e+00  3e-04  2e-14\n",
      " 3: -2.2496e+01 -2.2997e+01  5e-01  3e-05  1e-14\n",
      " 4: -2.2561e+01 -2.2568e+01  6e-03  3e-07  2e-14\n",
      " 5: -2.2562e+01 -2.2563e+01  6e-05  3e-09  2e-14\n",
      " 6: -2.2562e+01 -2.2563e+01  6e-07  3e-11  1e-14\n",
      "Optimal solution found.\n",
      "Alphas =  [4.9999998  6.31250013 1.31249982 9.99999997]\n",
      "w =  [ 0.25000001 -0.25000001]\n",
      "b =  [-0.74999997]\n"
     ]
    }
   ],
   "source": [
    "## dataset\n",
    "X = np.array([[3,4],[1,4],[2,3],[6,-1],[7,-1],[5,-3],[2,4]], dtype=float)\n",
    "y = np.array([-1,-1, -1, 1, 1 , 1, 1 ], dtype=float)\n",
    "\n",
    "## define C \n",
    "C = 10\n",
    "\n",
    "y = y.reshape(-1,1)\n",
    "svm_soft_margin(X, y, C)"
   ]
  }
 ],
 "metadata": {
  "interpreter": {
   "hash": "29b18f6f7436456ded269b7bb0d23499090a9a566016416baeeafcc627f8cc57"
  },
  "kernelspec": {
   "display_name": "Python 3.8.10 64-bit ('Pattern-Recognition-Final-Project-R6CI_4hh': pipenv)",
   "language": "python",
   "name": "python3810jvsc74a57bd029b18f6f7436456ded269b7bb0d23499090a9a566016416baeeafcc627f8cc57"
  },
  "language_info": {
   "codemirror_mode": {
    "name": "ipython",
    "version": 3
   },
   "file_extension": ".py",
   "mimetype": "text/x-python",
   "name": "python",
   "nbconvert_exporter": "python",
   "pygments_lexer": "ipython3",
   "version": "3.8.10"
  }
 },
 "nbformat": 4,
 "nbformat_minor": 4
}
