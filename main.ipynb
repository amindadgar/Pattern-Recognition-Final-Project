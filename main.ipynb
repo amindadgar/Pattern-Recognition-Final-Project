{
 "cells": [
  {
   "cell_type": "code",
   "execution_count": 28,
   "metadata": {},
   "outputs": [],
   "source": [
    "import numpy as np\n",
    "import cvxopt\n",
    "import matplotlib.pyplot as plt\n",
    "from sklearn import svm\n",
    "import pandas as pd"
   ]
  },
  {
   "cell_type": "markdown",
   "metadata": {},
   "source": [
    "# Soft margin SVM\n",
    "this part we are going to implement soft margin svm. We're using cvxopt library to solve quadratic equations in support vector machines."
   ]
  },
  {
   "cell_type": "markdown",
   "metadata": {},
   "source": [
    "## formulas and equations\n",
    "First we will speak of the CVXOPT library. in this library to solve a quadratic equation, equations must be in the form as equation \\ref{eq:quadratic-cvxopt-form}\n",
    "\\begin{equation} \n",
    "\\begin{aligned}\n",
    "&min \\: \\frac{1}{2} x^T P x + q^Tx \\\\\n",
    "&subject \\; to \\; Gx \\leq h \\\\\n",
    "& Ax=b\n",
    "\\end{aligned}\n",
    "\\label{eq:quadratic-cvxopt-form}\n",
    "\\end{equation}"
   ]
  },
  {
   "cell_type": "markdown",
   "metadata": {},
   "source": [
    "And the dual problem equations in support vector machines are as\n",
    "\\begin{equation} \\label{eq:dual-problem-expression}\n",
    "max \\sum_{i=1}^{m} \\alpha_i - \\frac{1}{2} \\sum_{i,j=1}^{m} y_i y_j \\alpha_i \\alpha_j x_{i}^{T} x_j\n",
    "\\end{equation}\n",
    "And if we write $H$ as $H_{i,j} = y_i y_j x_{i}^{T} x_j$\n",
    "the optimazation equation will be as \n",
    "\\begin{equation}\n",
    "\\begin{aligned}\n",
    "&max \\: \\sum_{i=1}^{m} \\alpha_i - \\frac{1}{2} \\alpha^T H \\alpha \\\\\n",
    "& subject \\; to \\; 0 \\leq \\alpha_i \\leq C \\\\\n",
    "& \\sum_{i}^{m} \\alpha_i y_i = 0\n",
    "\\end{aligned}\n",
    "\\end{equation}\n",
    "Note that $H$ will be our gram matrix. and if we want to convert our problem to the notation of CVXOPT library we can write\n",
    "\n",
    " $P$ stands for H with the shape $m \\times m$, $q$ stands for -1 vector with shape of $m \\times 1$, $G$ stands for a digonal matrix with -1 on the diagonal and the shape of $m \\times m$, $h$ stands for a zero vector with the shape of $m \\times 1$, $A$ stands for the label vector y with the shape of $m \\times 1$ and $b$ is a scalar."
   ]
  },
  {
   "cell_type": "markdown",
   "metadata": {},
   "source": [
    "To convert the maximum problem into minimum we can multilpy all equations with a $-1$ \n",
    "\\begin{equation}\n",
    "\\begin{aligned}\n",
    "& min \\: \\frac{1}{2} \\alpha^T H \\alpha - 1^T \\alpha_i \\\\\n",
    "& subject \\; to \\; \\alpha_i \\leq C \\\\\n",
    "&  -\\alpha_i \\leq 0 \\\\\n",
    "& \\sum_{i}^{m} \\alpha_i y_i = 0\n",
    "\\end{aligned}\n",
    "\\end{equation}\n",
    "also we can rewrite the last equation as below, meaning all lables ($y$) are in one vector\n",
    "\\begin{equation}\n",
    "y^T \\alpha = 0\n",
    "\\end{equation}"
   ]
  },
  {
   "cell_type": "markdown",
   "metadata": {},
   "source": [
    "## implementation\n",
    "Now we're going to implement soft margin svm with an example.  The data are as follows\n",
    "\\begin{equation}\n",
    "X =\n",
    "\\begin{pmatrix}\n",
    "3 & 1 & 2 & 6 & 7 & 5 & 2 \\\\\n",
    "4 & 4 & 3 & -1 & -1 & -3 & 4\n",
    "\\end{pmatrix}\n",
    "\\end{equation}\n",
    "And the labels are \n",
    "\\begin{equation}\n",
    "Y = \n",
    "\\begin{pmatrix}\n",
    "-1 & -1 & -1 & 1 & 1 & 1 & 1 \\\\\n",
    "\\end{pmatrix}\n",
    "\\end{equation}\n",
    "because the dimension of samples are 2 and we have two constraints $G$ and $h$, we can write these constraints as \n",
    "\\begin{equation}\n",
    "G = \n",
    "\\begin{pmatrix}\n",
    "-1 & 0 \\\\\n",
    "0 & -1 \\\\\n",
    "1 & 0 \\\\\n",
    "0 & 1\n",
    "\\end{pmatrix}\n",
    "\\end{equation}\n",
    "\n",
    "\\begin{equation}\n",
    "h = \n",
    "\\begin{pmatrix}\n",
    "0 \\\\\n",
    "0 \\\\\n",
    "C \\\\\n",
    "C\n",
    "\\end{pmatrix}\n",
    "\\end{equation}"
   ]
  },
  {
   "cell_type": "code",
   "execution_count": 2,
   "metadata": {},
   "outputs": [],
   "source": [
    "def svm_soft_margin(X, y, C):\n",
    "    \"\"\"\n",
    "    implementation of soft margin svm\n",
    "    we didn't use a kernel function we just made a linear inner product of data\n",
    "    \n",
    "    INPUTS:\n",
    "    --------\n",
    "    X: the numpy matrix of input vectors, shape is m*n meaning m is the dimension and n is data sample size\n",
    "    y: numpy vector of labels, shape is n*1\n",
    "    \n",
    "    \"\"\"\n",
    "    \n",
    "    m,n = X.shape\n",
    "    \n",
    "    ## multiplying the labels with inputs\n",
    "    X_dash = y * X\n",
    "\n",
    "    ############### LINEAR product ###############\n",
    "    ## inner product \n",
    "    ## with this the labels will be multiplied twice as in the dual problem equation\n",
    "    H = np.dot(X_dash, X_dash.T)\n",
    "    \n",
    "    ## convert data into cvxopt format\n",
    "    P = cvxopt.matrix(H)\n",
    "    q = cvxopt.matrix(-np.ones(m))\n",
    "    G = cvxopt.matrix(np.vstack((np.eye(m)*-1,np.eye(m))))\n",
    "    h = cvxopt.matrix(np.hstack((np.zeros(m), np.ones(m) * C)))\n",
    "    A = cvxopt.matrix(y.reshape(1, -1))\n",
    "    b = cvxopt.matrix(np.zeros(1))\n",
    "\n",
    "    ## solve the qaudratic equations\n",
    "    answer = cvxopt.solvers.qp(P, q, G, h, A, b)\n",
    "\n",
    "    ## the lagrangian coefficients (named as alpha)\n",
    "    alphas = np.array(answer['x'])\n",
    "\n",
    "    ## computing parameters of the line equation\n",
    "    w = ((y * alphas).T @ X).reshape(-1,1)\n",
    "    S = (alphas > 1e-4).flatten()\n",
    "    b = y[S] - np.dot(X[S], w)\n",
    "\n",
    "    #Display results\n",
    "    print('Alphas = ',alphas[alphas > 1e-4])\n",
    "    print('w = ', w.flatten())\n",
    "    print('b = ', b[0])\n"
   ]
  },
  {
   "cell_type": "code",
   "execution_count": 3,
   "metadata": {},
   "outputs": [
    {
     "name": "stdout",
     "output_type": "stream",
     "text": [
      "     pcost       dcost       gap    pres   dres\n",
      " 0: -1.5556e+01 -2.5999e+02  3e+02  1e-01  2e-14\n",
      " 1: -1.8050e+01 -3.9497e+01  2e+01  4e-03  1e-14\n",
      " 2: -2.1437e+01 -2.3412e+01  2e+00  3e-04  2e-14\n",
      " 3: -2.2496e+01 -2.2997e+01  5e-01  3e-05  1e-14\n",
      " 4: -2.2561e+01 -2.2568e+01  6e-03  3e-07  2e-14\n",
      " 5: -2.2562e+01 -2.2563e+01  6e-05  3e-09  2e-14\n",
      " 6: -2.2562e+01 -2.2563e+01  6e-07  3e-11  1e-14\n",
      "Optimal solution found.\n",
      "Alphas =  [4.9999998  6.31250013 1.31249982 9.99999997]\n",
      "w =  [ 0.25000001 -0.25000001]\n",
      "b =  [-0.74999997]\n"
     ]
    }
   ],
   "source": [
    "## dataset\n",
    "X = np.array([[3,4],[1,4],[2,3],[6,-1],[7,-1],[5,-3],[2,4]], dtype=float)\n",
    "y = np.array([-1,-1, -1, 1, 1 , 1, 1 ], dtype=float)\n",
    "\n",
    "## define C \n",
    "C = 10\n",
    "\n",
    "y = y.reshape(-1,1)\n",
    "svm_soft_margin(X, y, C)"
   ]
  },
  {
   "cell_type": "markdown",
   "metadata": {},
   "source": [
    "# Twin Support Vector Machine (TWSVM)\n",
    "In this type of svm called twin support vector machines we are going to have to non-parallel lines. This is a binary classifier as SVM and to classify each data we need to find out that the data point is close to which of the hyperplains. <br>\n",
    "To demonstrate the equation for this type of svm we can write them as below.\n",
    "\\begin{align*}\n",
    "w_1^T x+b_1&=0          &  w_2^Tx+b_2&=0\n",
    "\\end{align*}\n",
    "And we need to solve quadratic equations as below\n",
    "\\begin{equation}\n",
    "min \\; \\frac{1}{2} (Aw_1 + e_1 b_1)^T(Aw_1 + e_1 b_1) + c_1 e_2^T \\xi_2 \\\\\n",
    "subject \\; to \\; -(Bw_1 + e_2 b_1) + \\xi_2 \\geq e_2 \\\\\n",
    "\\xi_2 \\geq 0\n",
    "\\end{equation}\n",
    "and for the second line\n",
    "\\begin{equation}\n",
    "min \\; \\frac{1}{2} (Bw_2 + e_2 b_2)^T(Bw_2 + e_2 b_2) + c_2 e_1^T \\xi_1 \\\\\n",
    "subject \\; to \\; Aw_2 + e_1 b_2 + \\xi_1 \\geq e_1 \\\\\n",
    "\\xi_1 \\geq 0\n",
    "\\end{equation}"
   ]
  },
  {
   "cell_type": "markdown",
   "metadata": {},
   "source": [
    "If we go and calculate them we using wolfe dual method, can find the answers as below\n",
    "\\begin{equation}\n",
    "max \\; e_2^T \\alpha - \\frac{1}{2} \\alpha^T G(H^TH)^{-1} G^T \\alpha \\\\\n",
    "subject \\; to \\; 0 \\leq \\alpha \\leq c_1\n",
    "\\end{equation}\n",
    "and for the second line \n",
    "\\begin{equation}\n",
    "max \\; e_1^T \\beta - \\frac{1}{2} \\beta^T H(G^TG)^{-1} H^T \\beta \\\\\n",
    "subject \\; to \\; 0 \\leq \\beta \\leq c_2\n",
    "\\end{equation}\n",
    "while $G=[A \\;\\; e_1]$, $H=[B \\;\\; e_2]$, $e_1$ and $e_2$ are the column vector of one with the right dimension(data dimension). Also the lagrange coefficients are $\\alpha$ and $\\beta$."
   ]
  },
  {
   "cell_type": "markdown",
   "metadata": {},
   "source": [
    "And to find the weight and bias of the hyperplains, we can derive it from equations below\n",
    "\\begin{align*}\n",
    "v_1&=-(H^TH)^{-1}G^T\\alpha      &    where \\;\\;\\; v_1&=[w_1 \\;\\; b_1]^T \\\\\n",
    "v_2&=-(G^TG)^{-1}H^T\\beta      &    where \\;\\;\\; v_2&=[w_2 \\;\\; b_2]^T\n",
    "\\end{align*}\n"
   ]
  },
  {
   "cell_type": "markdown",
   "metadata": {},
   "source": [
    "And to find the class for each data we can use the equation below to find the closest hyperplain for a data\n",
    "\\begin{equation}\n",
    "Class \\;\\; K = argmin_{k=1,2} \\frac{|w_k^Tx+b_k|}{||w_k||}\n",
    "\\end{equation}"
   ]
  },
  {
   "cell_type": "markdown",
   "metadata": {},
   "source": [
    "## implementation\n",
    "We set $m=2$, meaning the dimension of data is two. then we can derive $G$ and $h$ matrices for lagrangian coefficients are as below\n",
    "\\begin{equation}\n",
    "G_1 = \n",
    "\\begin{pmatrix}\n",
    "-1 & 0 \\\\\n",
    "0 & -1 \\\\\n",
    "1 & 0 \\\\\n",
    "0 & 1\n",
    "\\end{pmatrix}\n",
    "\\end{equation}\n",
    "\n",
    "\\begin{equation}\n",
    "h_1 = \n",
    "\\begin{pmatrix}\n",
    "0 \\\\\n",
    "0 \\\\\n",
    "c_1 \\\\\n",
    "c_2\n",
    "\\end{pmatrix}\n",
    "\\end{equation}\n",
    "Also $h_2$ and $G_2$ are the same."
   ]
  },
  {
   "cell_type": "code",
   "execution_count": 104,
   "metadata": {},
   "outputs": [
    {
     "name": "stdout",
     "output_type": "stream",
     "text": [
      "     pcost       dcost       gap    pres   dres\n",
      " 0: -1.3407e-15 -4.0000e+01  9e+01  1e-01  2e-15\n",
      " 1:  6.3531e-17 -7.3007e-01  1e+00  1e-03  2e-15\n",
      " 2:  6.2971e-19 -7.3014e-03  1e-02  1e-05  3e-15\n",
      " 3:  6.2978e-21 -7.3014e-05  1e-04  1e-07  2e-15\n",
      " 4:  6.2978e-23 -7.3014e-07  1e-06  1e-09  2e-15\n",
      " 5:  6.2978e-25 -7.3014e-09  1e-08  1e-11  3e-15\n",
      "Optimal solution found.\n"
     ]
    },
    {
     "ename": "ValueError",
     "evalue": "operands could not be broadcast together with shapes (2,8) (4,1) ",
     "output_type": "error",
     "traceback": [
      "\u001b[0;31m---------------------------------------------------------------------------\u001b[0m",
      "\u001b[0;31mValueError\u001b[0m                                Traceback (most recent call last)",
      "\u001b[0;32m/tmp/ipykernel_7612/1654754882.py\u001b[0m in \u001b[0;36m<module>\u001b[0;34m\u001b[0m\n\u001b[1;32m     64\u001b[0m \u001b[0malphas1\u001b[0m \u001b[0;34m=\u001b[0m \u001b[0mnp\u001b[0m\u001b[0;34m.\u001b[0m\u001b[0marray\u001b[0m\u001b[0;34m(\u001b[0m\u001b[0manswer1\u001b[0m\u001b[0;34m[\u001b[0m\u001b[0;34m'x'\u001b[0m\u001b[0;34m]\u001b[0m\u001b[0;34m)\u001b[0m\u001b[0;34m\u001b[0m\u001b[0;34m\u001b[0m\u001b[0m\n\u001b[1;32m     65\u001b[0m \u001b[0;34m\u001b[0m\u001b[0m\n\u001b[0;32m---> 66\u001b[0;31m \u001b[0mv1\u001b[0m \u001b[0;34m=\u001b[0m \u001b[0;34m-\u001b[0m\u001b[0;36m1\u001b[0m \u001b[0;34m*\u001b[0m \u001b[0mnp\u001b[0m\u001b[0;34m.\u001b[0m\u001b[0mlinalg\u001b[0m\u001b[0;34m.\u001b[0m\u001b[0minv\u001b[0m\u001b[0;34m(\u001b[0m\u001b[0;34m(\u001b[0m\u001b[0mG\u001b[0m\u001b[0;34m.\u001b[0m\u001b[0mT\u001b[0m \u001b[0;34m@\u001b[0m \u001b[0mG\u001b[0m\u001b[0;34m)\u001b[0m\u001b[0;34m)\u001b[0m\u001b[0;34m.\u001b[0m\u001b[0mdot\u001b[0m\u001b[0;34m(\u001b[0m\u001b[0mH\u001b[0m\u001b[0;34m.\u001b[0m\u001b[0mT\u001b[0m\u001b[0;34m)\u001b[0m \u001b[0;34m*\u001b[0m \u001b[0malphas1\u001b[0m\u001b[0;34m\u001b[0m\u001b[0;34m\u001b[0m\u001b[0m\n\u001b[0m\u001b[1;32m     67\u001b[0m \u001b[0mv1\u001b[0m\u001b[0;34m\u001b[0m\u001b[0;34m\u001b[0m\u001b[0m\n\u001b[1;32m     68\u001b[0m \u001b[0;34m\u001b[0m\u001b[0m\n",
      "\u001b[0;31mValueError\u001b[0m: operands could not be broadcast together with shapes (2,8) (4,1) "
     ]
    }
   ],
   "source": [
    "c1 = 10\n",
    "c2 = 10\n",
    "\n",
    "data_A = np.array([[3,4],[1.5,4],[2,3],[6,-1],[7,-1],[5,-3],[2,4]], dtype=float)\n",
    "y1 = np.array([1,1, 1, 1, 1 , 1, 1], dtype=float)\n",
    "\n",
    "data_A = np.array([[1,1], [1,0], [0,1]])\n",
    "y1 = np.array([1, 1, 1], dtype=float)\n",
    "y1 = y1.reshape(-1,1)\n",
    "\n",
    "y1 = np.concatenate((y1, [[1]]))\n",
    "\n",
    "data_B = np.array([[-1, 5], [-2, 6], [-3, 8], [-1.5, 5], [0, 2], [0, -2], [-1, -3]], dtype=float)\n",
    "y2 = np.array([-1,-1, -1, -1, -1 , -1, -1], dtype=float)\n",
    "# data_B = np.array([[0,0], [-1, -1], [-1, 0]])\n",
    "# y2 = np.array([-1, -1, -1], dtype= float)\n",
    "y2 = y2.reshape(-1,1)\n",
    "\n",
    "y2 = np.concatenate((y2, [[-1]]))\n",
    "\n",
    "m1, n1 = data_A.shape\n",
    "m2, n2 = data_B.shape\n",
    "m2 += 1\n",
    "m1 += 1\n",
    "\n",
    "e1 = np.ones(n1, dtype=float)\n",
    "e2 = np.ones(n2, dtype=float)\n",
    "\n",
    "## y1 and y2 are the labels and must be multiplied\n",
    "G =  y1 * np.concatenate(( data_A , [e1]), axis=0)\n",
    "H = y2 * np.concatenate((data_B , [e2]), axis=0)\n",
    "\n",
    "## for each hyperplain\n",
    "## the equations shows the maximum, in order to find the minimum a -1 is multiplied to each equation\n",
    "P1 = -1* G.dot(np.linalg.inv(np.dot(H.T, H))).dot(G.T)\n",
    "P2 = -1* H.dot(np.linalg.inv(np.dot(G.T, G))).dot(H.T)\n",
    "\n",
    "## convert to cvxopt matrix\n",
    "P1 = cvxopt.matrix(P1)\n",
    "P2 = cvxopt.matrix(P2)\n",
    "\n",
    "q1 = cvxopt.matrix(-np.ones(m1))\n",
    "q2 = cvxopt.matrix(-np.ones(m2))\n",
    "\n",
    "G1 = cvxopt.matrix(np.vstack((np.eye(m1)*-1,np.eye(m1))))\n",
    "h1 = cvxopt.matrix(np.hstack((np.zeros(m1), np.ones(m1) * c1)))\n",
    "\n",
    "G2 = cvxopt.matrix(np.vstack((np.eye(m2)*-1,np.eye(m2))))\n",
    "h2 = cvxopt.matrix(np.hstack((np.zeros(m2), np.ones(m2) * c2)))\n",
    "\n",
    "## the other constraints\n",
    "\n",
    "A1 = cvxopt.matrix(y1.reshape(1, -1))\n",
    "b1 = cvxopt.matrix(np.zeros(1))\n",
    "\n",
    "A2 = cvxopt.matrix(y2.reshape(1, -1))\n",
    "b2 = cvxopt.matrix(np.zeros(1))\n",
    "\n",
    "answer1 = cvxopt.solvers.qp(P1, q1, G1, h1, A1, b1)\n",
    "# answer2 = cvxopt.solvers.qp(P2, q2, G2, h2, A2, b2)\n",
    "\n",
    "\n",
    "## the lagrangian coefficients (named as alpha)\n",
    "alphas1 = np.array(answer1['x'])\n",
    "\n",
    "v1 = -1 * np.linalg.inv((G.T @ G)).dot(H.T) * alphas1\n",
    "v1\n",
    "\n",
    "# ## computing parameters of the line equation\n",
    "# w1 = ((y1 * alphas).T @ G).reshape(-1,1)\n",
    "# S1 = (alphas > 1e-4).flatten()\n",
    "# b1 = y1[S1] - np.dot(G, w1)\n",
    "\n",
    "# print(\"Answer 1\")\n",
    "# print('Alphas = ',alphas[alphas > 1e-4])\n",
    "# print('w1 = ', w.flatten())\n",
    "# print('b1 = ', b[0])"
   ]
  },
  {
   "cell_type": "code",
   "execution_count": 105,
   "metadata": {},
   "outputs": [
    {
     "data": {
      "image/png": "[encoded data removed]",
      "text/plain": [
       "<Figure size 432x288 with 1 Axes>"
      ]
     },
     "metadata": {
      "needs_background": "light"
     },
     "output_type": "display_data"
    }
   ],
   "source": [
    "plt.scatter(data_A[:,0], data_A[:,1])\n",
    "plt.scatter(data_B[:,0], data_B[:,1])\n",
    "plt.legend(['Class 1', 'Class -1'])\n",
    "plt.show()"
   ]
  },
  {
   "cell_type": "code",
   "execution_count": 107,
   "metadata": {},
   "outputs": [
    {
     "data": {
      "text/plain": [
       "array([[ 1. , -5. ],\n",
       "       [ 2. , -6. ],\n",
       "       [ 3. , -8. ],\n",
       "       [ 1.5, -5. ],\n",
       "       [-0. , -2. ],\n",
       "       [-0. ,  2. ],\n",
       "       [ 1. ,  3. ],\n",
       "       [-1. , -1. ]])"
      ]
     },
     "execution_count": 107,
     "metadata": {},
     "output_type": "execute_result"
    }
   ],
   "source": [
    "# np.concatenate((data_A, [e1])) \n",
    "H"
   ]
  },
  {
   "cell_type": "markdown",
   "metadata": {},
   "source": [
    "# K-SVCR\n",
    "The main concept of K-SVCR proposed by Cecilio Angulo and Andreu Catala in 2003 was to classify more than two classses and it uses the idea of one-vs-one-vs-rest. The difference between this method and the one-vs-one or one-vs-rest is, it will use three classes in each step of support vector evaluation. First it calculates a support vector for class label $+1$, then it calculates another one for label $-1$ and at last for other classes it apply label $0$ for other classes. <br>\n",
    "The equation below would help to better understand this method.(Note that $N$ is the count of our data) \n",
    "\\begin{equation}\n",
    "  f(x_p) =\n",
    "    \\begin{cases}\n",
    "      1 & \\text{if $p=1,\\; 2, ..., n$}\\\\\n",
    "      -1 & \\text{if $p=n+1, \\; n+2, ..., n+m$}\\\\\n",
    "      0 & \\text{if $p=n+m+1, \\; n+m+2, ..., N$}\n",
    "    \\end{cases}       \n",
    "\\end{equation}\n",
    "And the equations for the optimization problem will be\n",
    "\\begin{equation}\n",
    "arg \\: min \\; \\frac{1}{2} ||w||^2\n",
    "\\end{equation}\n",
    "With the equation above we are maximazing the margin of each decesion boundary."
   ]
  }
 ],
 "metadata": {
  "interpreter": {
   "hash": "29b18f6f7436456ded269b7bb0d23499090a9a566016416baeeafcc627f8cc57"
  },
  "kernelspec": {
   "display_name": "Python 3 (ipykernel)",
   "language": "python",
   "name": "python3"
  },
  "language_info": {
   "codemirror_mode": {
    "name": "ipython",
    "version": 3
   },
   "file_extension": ".py",
   "mimetype": "text/x-python",
   "name": "python",
   "nbconvert_exporter": "python",
   "pygments_lexer": "ipython3",
   "version": "3.8.10"
  }
 },
 "nbformat": 4,
 "nbformat_minor": 4
}
